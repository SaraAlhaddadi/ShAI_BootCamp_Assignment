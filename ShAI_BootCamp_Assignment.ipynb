{
 "cells": [
  {
   "cell_type": "markdown",
   "metadata": {
    "id": "9veqgG-LVKd3"
   },
   "source": [
    "#About Dataset\n",
    "salaries dataset generally provides information about the employees of an organization in relation to their compensation. It typically includes details such as how much each employee is paid (their salary), their job titles, the departments they work in, and possibly additional information like their level of experience, education, and employment history within the organization."
   ]
  },
  {
   "cell_type": "markdown",
   "metadata": {
    "id": "cZwHdpBfVzOh"
   },
   "source": [
    "# Features\n",
    "- 'Id'\n",
    "- 'EmployeeName'\n",
    "- 'JobTitle'\n",
    "- 'BasePay'\n",
    "- 'OvertimePay'\n",
    "- 'OtherPay'\n",
    "- 'Benefits'\n",
    "- 'TotalPay' -> salary\n",
    "- 'TotalPayBenefits'\n",
    "- 'Year'\n",
    "- 'Notes'\n",
    "- 'Agency'\n",
    "- 'Status'\n"
   ]
  },
  {
   "cell_type": "markdown",
   "metadata": {
    "id": "X1VJposzVrSF"
   },
   "source": [
    "# Tasks\n",
    "\n",
    "1. **Basic Data Exploration**: Identify the number of rows and columns in the dataset, determine the data types of each column, and check for missing values in each column.\n",
    "\n",
    "2. **Descriptive Statistics**: Calculate basic statistics mean, median, mode, minimum, and maximum salary, determine the range of salaries, and find the standard deviation.\n",
    "\n",
    "3. **Data Cleaning**: Handle missing data by suitable method with explain why you use it.\n",
    "\n",
    "4. **Basic Data Visualization**: Create histograms or bar charts to visualize the distribution of salaries, and use pie charts to represent the proportion of employees in different departments.\n",
    "\n",
    "5. **Grouped Analysis**: Group the data by one or more columns and calculate summary statistics for each group, and compare the average salaries across different groups.\n",
    "\n",
    "6. **Simple Correlation Analysis**: Identify any correlation between salary and another numerical column, and plot a scatter plot to visualize the relationship.\n",
    "\n",
    "8. **Summary of Insights**: Write a brief report summarizing the findings and insights from the analyses."
   ]
  },
  {
   "cell_type": "markdown",
   "metadata": {
    "id": "8_rNdHiGUT6A"
   },
   "source": [
    "# Very Important Note\n",
    "There is no fixed or singular solution for this assignment, so if anything is not clear, please do what you understand and provide an explanation."
   ]
  },
  {
   "cell_type": "code",
   "execution_count": 20,
   "metadata": {
    "colab": {
     "base_uri": "https://localhost:8080/",
     "height": 486
    },
    "id": "KmZfk5xkXI2y",
    "outputId": "e77ffddb-f533-4bac-d15a-3ea9f42b7890"
   },
   "outputs": [
    {
     "data": {
      "text/html": [
       "<div>\n",
       "<style scoped>\n",
       "    .dataframe tbody tr th:only-of-type {\n",
       "        vertical-align: middle;\n",
       "    }\n",
       "\n",
       "    .dataframe tbody tr th {\n",
       "        vertical-align: top;\n",
       "    }\n",
       "\n",
       "    .dataframe thead th {\n",
       "        text-align: right;\n",
       "    }\n",
       "</style>\n",
       "<table border=\"1\" class=\"dataframe\">\n",
       "  <thead>\n",
       "    <tr style=\"text-align: right;\">\n",
       "      <th></th>\n",
       "      <th>Id</th>\n",
       "      <th>EmployeeName</th>\n",
       "      <th>JobTitle</th>\n",
       "      <th>BasePay</th>\n",
       "      <th>OvertimePay</th>\n",
       "      <th>OtherPay</th>\n",
       "      <th>Benefits</th>\n",
       "      <th>TotalPay</th>\n",
       "      <th>TotalPayBenefits</th>\n",
       "      <th>Year</th>\n",
       "      <th>Notes</th>\n",
       "      <th>Agency</th>\n",
       "      <th>Status</th>\n",
       "    </tr>\n",
       "  </thead>\n",
       "  <tbody>\n",
       "    <tr>\n",
       "      <th>0</th>\n",
       "      <td>1</td>\n",
       "      <td>NATHANIEL FORD</td>\n",
       "      <td>GENERAL MANAGER-METROPOLITAN TRANSIT AUTHORITY</td>\n",
       "      <td>167411.18</td>\n",
       "      <td>0.00</td>\n",
       "      <td>400184.25</td>\n",
       "      <td>NaN</td>\n",
       "      <td>567595.43</td>\n",
       "      <td>567595.43</td>\n",
       "      <td>2011</td>\n",
       "      <td>NaN</td>\n",
       "      <td>San Francisco</td>\n",
       "      <td>NaN</td>\n",
       "    </tr>\n",
       "    <tr>\n",
       "      <th>1</th>\n",
       "      <td>2</td>\n",
       "      <td>GARY JIMENEZ</td>\n",
       "      <td>CAPTAIN III (POLICE DEPARTMENT)</td>\n",
       "      <td>155966.02</td>\n",
       "      <td>245131.88</td>\n",
       "      <td>137811.38</td>\n",
       "      <td>NaN</td>\n",
       "      <td>538909.28</td>\n",
       "      <td>538909.28</td>\n",
       "      <td>2011</td>\n",
       "      <td>NaN</td>\n",
       "      <td>San Francisco</td>\n",
       "      <td>NaN</td>\n",
       "    </tr>\n",
       "    <tr>\n",
       "      <th>2</th>\n",
       "      <td>3</td>\n",
       "      <td>ALBERT PARDINI</td>\n",
       "      <td>CAPTAIN III (POLICE DEPARTMENT)</td>\n",
       "      <td>212739.13</td>\n",
       "      <td>106088.18</td>\n",
       "      <td>16452.60</td>\n",
       "      <td>NaN</td>\n",
       "      <td>335279.91</td>\n",
       "      <td>335279.91</td>\n",
       "      <td>2011</td>\n",
       "      <td>NaN</td>\n",
       "      <td>San Francisco</td>\n",
       "      <td>NaN</td>\n",
       "    </tr>\n",
       "    <tr>\n",
       "      <th>3</th>\n",
       "      <td>4</td>\n",
       "      <td>CHRISTOPHER CHONG</td>\n",
       "      <td>WIRE ROPE CABLE MAINTENANCE MECHANIC</td>\n",
       "      <td>77916.00</td>\n",
       "      <td>56120.71</td>\n",
       "      <td>198306.90</td>\n",
       "      <td>NaN</td>\n",
       "      <td>332343.61</td>\n",
       "      <td>332343.61</td>\n",
       "      <td>2011</td>\n",
       "      <td>NaN</td>\n",
       "      <td>San Francisco</td>\n",
       "      <td>NaN</td>\n",
       "    </tr>\n",
       "    <tr>\n",
       "      <th>4</th>\n",
       "      <td>5</td>\n",
       "      <td>PATRICK GARDNER</td>\n",
       "      <td>DEPUTY CHIEF OF DEPARTMENT,(FIRE DEPARTMENT)</td>\n",
       "      <td>134401.60</td>\n",
       "      <td>9737.00</td>\n",
       "      <td>182234.59</td>\n",
       "      <td>NaN</td>\n",
       "      <td>326373.19</td>\n",
       "      <td>326373.19</td>\n",
       "      <td>2011</td>\n",
       "      <td>NaN</td>\n",
       "      <td>San Francisco</td>\n",
       "      <td>NaN</td>\n",
       "    </tr>\n",
       "  </tbody>\n",
       "</table>\n",
       "</div>"
      ],
      "text/plain": [
       "   Id       EmployeeName                                        JobTitle  \\\n",
       "0   1     NATHANIEL FORD  GENERAL MANAGER-METROPOLITAN TRANSIT AUTHORITY   \n",
       "1   2       GARY JIMENEZ                 CAPTAIN III (POLICE DEPARTMENT)   \n",
       "2   3     ALBERT PARDINI                 CAPTAIN III (POLICE DEPARTMENT)   \n",
       "3   4  CHRISTOPHER CHONG            WIRE ROPE CABLE MAINTENANCE MECHANIC   \n",
       "4   5    PATRICK GARDNER    DEPUTY CHIEF OF DEPARTMENT,(FIRE DEPARTMENT)   \n",
       "\n",
       "     BasePay  OvertimePay   OtherPay  Benefits   TotalPay  TotalPayBenefits  \\\n",
       "0  167411.18         0.00  400184.25       NaN  567595.43         567595.43   \n",
       "1  155966.02    245131.88  137811.38       NaN  538909.28         538909.28   \n",
       "2  212739.13    106088.18   16452.60       NaN  335279.91         335279.91   \n",
       "3   77916.00     56120.71  198306.90       NaN  332343.61         332343.61   \n",
       "4  134401.60      9737.00  182234.59       NaN  326373.19         326373.19   \n",
       "\n",
       "   Year  Notes         Agency  Status  \n",
       "0  2011    NaN  San Francisco     NaN  \n",
       "1  2011    NaN  San Francisco     NaN  \n",
       "2  2011    NaN  San Francisco     NaN  \n",
       "3  2011    NaN  San Francisco     NaN  \n",
       "4  2011    NaN  San Francisco     NaN  "
      ]
     },
     "execution_count": 20,
     "metadata": {},
     "output_type": "execute_result"
    }
   ],
   "source": [
    "import pandas as pd\n",
    "import numpy as np\n",
    "\n",
    "# Load your dataset\n",
    "df = pd.read_csv('content/Salaries.csv')\n",
    "df.head()\n"
   ]
  },
  {
   "cell_type": "code",
   "execution_count": 21,
   "metadata": {
    "colab": {
     "base_uri": "https://localhost:8080/"
    },
    "id": "xIT514wlvvBZ",
    "outputId": "9ecf152c-554a-4cf6-d667-efc95c16d489"
   },
   "outputs": [
    {
     "data": {
      "text/plain": [
       "Index(['Id', 'EmployeeName', 'JobTitle', 'BasePay', 'OvertimePay', 'OtherPay',\n",
       "       'Benefits', 'TotalPay', 'TotalPayBenefits', 'Year', 'Notes', 'Agency',\n",
       "       'Status'],\n",
       "      dtype='object')"
      ]
     },
     "execution_count": 21,
     "metadata": {},
     "output_type": "execute_result"
    }
   ],
   "source": [
    "df.columns"
   ]
  },
  {
   "cell_type": "markdown",
   "metadata": {
    "id": "bbIN2ujHUyRx"
   },
   "source": [
    "## Task1: Basic Data Exploration\n",
    "Identify the number of rows and columns in the dataset, determine the data types of each column, and check for missing values in each column."
   ]
  },
  {
   "cell_type": "markdown",
   "metadata": {},
   "source": [
    "### Identify the number of rows and columns in the dataset:"
   ]
  },
  {
   "cell_type": "code",
   "execution_count": 22,
   "metadata": {
    "id": "_dovy31FUyUF"
   },
   "outputs": [
    {
     "name": "stdout",
     "output_type": "stream",
     "text": [
      "Number of rows: 148654\n",
      "Number of columns: 13\n"
     ]
    }
   ],
   "source": [
    "num_rows, num_cols = df.shape\n",
    "print(\"Number of rows:\", num_rows)\n",
    "print(\"Number of columns:\", num_cols)"
   ]
  },
  {
   "cell_type": "markdown",
   "metadata": {},
   "source": [
    "### Determine the data types of each column:"
   ]
  },
  {
   "cell_type": "code",
   "execution_count": 23,
   "metadata": {},
   "outputs": [
    {
     "name": "stdout",
     "output_type": "stream",
     "text": [
      "Data types of each column:\n",
      " Id                    int64\n",
      "EmployeeName         object\n",
      "JobTitle             object\n",
      "BasePay             float64\n",
      "OvertimePay         float64\n",
      "OtherPay            float64\n",
      "Benefits            float64\n",
      "TotalPay            float64\n",
      "TotalPayBenefits    float64\n",
      "Year                  int64\n",
      "Notes               float64\n",
      "Agency               object\n",
      "Status              float64\n",
      "dtype: object\n"
     ]
    }
   ],
   "source": [
    "data_types_per_col = df.dtypes\n",
    "print(\"Data types of each column:\\n\", data_types_per_col)"
   ]
  },
  {
   "cell_type": "markdown",
   "metadata": {},
   "source": [
    "### Check for missing values in each column:"
   ]
  },
  {
   "cell_type": "code",
   "execution_count": 24,
   "metadata": {},
   "outputs": [
    {
     "name": "stdout",
     "output_type": "stream",
     "text": [
      "Missing values in each column:\n",
      " Id                       0\n",
      "EmployeeName             0\n",
      "JobTitle                 0\n",
      "BasePay                609\n",
      "OvertimePay              4\n",
      "OtherPay                 4\n",
      "Benefits             36163\n",
      "TotalPay                 0\n",
      "TotalPayBenefits         0\n",
      "Year                     0\n",
      "Notes               148654\n",
      "Agency                   0\n",
      "Status              148654\n",
      "dtype: int64\n"
     ]
    }
   ],
   "source": [
    "# missing_values that has null\n",
    "missing_values_per_col = df.isnull().sum()\n",
    "print(\"Missing values in each column:\\n\", missing_values_per_col)"
   ]
  },
  {
   "cell_type": "markdown",
   "metadata": {},
   "source": [
    "## Task2: Descriptive Statistics\n",
    "Calculate basic statistics mean, median, mode, minimum, and maximum salary, determine the range of salaries, and find the standard deviation."
   ]
  },
  {
   "cell_type": "markdown",
   "metadata": {},
   "source": [
    "### Calculate basic statistics mean, median, mode, minimum, and maximum salary"
   ]
  },
  {
   "cell_type": "code",
   "execution_count": 25,
   "metadata": {},
   "outputs": [
    {
     "name": "stdout",
     "output_type": "stream",
     "text": [
      "Mean salary: 74768.32197169267\n",
      "Median salary: 71426.60999999999\n",
      "Mode salary: 0.0\n",
      "Minimum salary: -618.13\n",
      "Maximum salary: 567595.43\n"
     ]
    }
   ],
   "source": [
    "# Calculate basic statistics\n",
    "mean_salary = df['TotalPay'].mean()\n",
    "median_salary = df['TotalPay'].median()\n",
    "mode_salary = df['TotalPay'].mode().values[0]\n",
    "min_salary = df['TotalPay'].min()\n",
    "max_salary = df['TotalPay'].max()\n",
    "\n",
    "# Print the calculated statistics\n",
    "print(\"Mean salary:\", mean_salary)\n",
    "print(\"Median salary:\", median_salary)\n",
    "print(\"Mode salary:\", mode_salary)\n",
    "print(\"Minimum salary:\", min_salary)\n",
    "print(\"Maximum salary:\", max_salary)"
   ]
  },
  {
   "cell_type": "markdown",
   "metadata": {},
   "source": [
    "###  determine the range of salaries"
   ]
  },
  {
   "cell_type": "code",
   "execution_count": 26,
   "metadata": {},
   "outputs": [
    {
     "name": "stdout",
     "output_type": "stream",
     "text": [
      "Range of salaries: 568213.56\n"
     ]
    }
   ],
   "source": [
    "range_salary = max_salary - min_salary\n",
    "print(\"Range of salaries:\", range_salary)"
   ]
  },
  {
   "cell_type": "markdown",
   "metadata": {},
   "source": [
    "### find the standard deviation."
   ]
  },
  {
   "cell_type": "code",
   "execution_count": 27,
   "metadata": {},
   "outputs": [
    {
     "name": "stdout",
     "output_type": "stream",
     "text": [
      "Standard deviation of salaries: 50517.00527394987\n"
     ]
    }
   ],
   "source": [
    "std_salary = df['TotalPay'].std()\n",
    "print(\"Standard deviation of salaries:\", std_salary)"
   ]
  },
  {
   "cell_type": "markdown",
   "metadata": {},
   "source": [
    "## Task3: Data Cleaning"
   ]
  },
  {
   "cell_type": "markdown",
   "metadata": {},
   "source": [
    "Handle missing data by suitable method with explain why you use it."
   ]
  },
  {
   "cell_type": "markdown",
   "metadata": {},
   "source": [
    "To handle missing data in the given dataset,I want to know how this missing data relitive to data "
   ]
  },
  {
   "cell_type": "code",
   "execution_count": 29,
   "metadata": {},
   "outputs": [
    {
     "name": "stdout",
     "output_type": "stream",
     "text": [
      "Column Name\t\t| Number of All Records\t| Number of Missing Data\n",
      "----------------------------------------------------------------------\n",
      "Id                  \t| 148654              \t| 0\n",
      "EmployeeName        \t| 148654              \t| 0\n",
      "JobTitle            \t| 148654              \t| 0\n",
      "BasePay             \t| 148045              \t| 609\n",
      "OvertimePay         \t| 148650              \t| 4\n",
      "OtherPay            \t| 148650              \t| 4\n",
      "Benefits            \t| 112491              \t| 36163\n",
      "TotalPay            \t| 148654              \t| 0\n",
      "TotalPayBenefits    \t| 148654              \t| 0\n",
      "Year                \t| 148654              \t| 0\n",
      "Notes               \t| 0                   \t| 148654\n",
      "Agency              \t| 148654              \t| 0\n",
      "Status              \t| 0                   \t| 148654\n"
     ]
    }
   ],
   "source": [
    "# I define it as method so I can reuse it to check my progress \n",
    "def count_and_print_missing_data(df):\n",
    "    # Count non-missing values per column\n",
    "    non_missing_counts = df.count()\n",
    "\n",
    "    # Count missing values per column\n",
    "    missing_counts = df.isnull().sum()\n",
    "\n",
    "    # Print the results in a table format\n",
    "    print(\"Column Name\\t\\t| Number of All Records\\t| Number of Missing Data\")\n",
    "    print(\"-\" * 70)\n",
    "\n",
    "    for column_name in df.columns:\n",
    "      print(f\"{column_name.ljust(20)}\\t| {str(non_missing_counts[column_name]).ljust(20)}\\t| {missing_counts[column_name]}\")\n",
    "\n",
    "count_and_print_missing_data(df)"
   ]
  },
  {
   "cell_type": "markdown",
   "metadata": {},
   "source": [
    "Now we need to address the missing values in the 'BasePay', 'OvertimePay', 'OtherPay', 'Benefits',  'Notes' and ' 'Status' columns. \n",
    "\n",
    "Here's a suggested approach to handle the missing data using suitable methods:\n",
    "\n",
    "BasePay, OvertimePay, OtherPay, Benefits: Since the missing values in these columns represent numeric data, there is many way but I will choose to calculate these values as we have total to make sure I have more correctness in data\n",
    "\n",
    "I am not sure what the formula is but I will assume it is as \n",
    "\n",
    "`TotalPay = BasePay + OvertimePay + OtherPay`\n",
    "\n",
    "`TotalPayBenefits = TotalPay + Benefits`"
   ]
  },
  {
   "cell_type": "markdown",
   "metadata": {},
   "source": [
    "first I will check OvertimePay and OtherPay as we have only 4 missing"
   ]
  },
  {
   "cell_type": "code",
   "execution_count": 10,
   "metadata": {},
   "outputs": [
    {
     "data": {
      "text/html": [
       "<div>\n",
       "<style scoped>\n",
       "    .dataframe tbody tr th:only-of-type {\n",
       "        vertical-align: middle;\n",
       "    }\n",
       "\n",
       "    .dataframe tbody tr th {\n",
       "        vertical-align: top;\n",
       "    }\n",
       "\n",
       "    .dataframe thead th {\n",
       "        text-align: right;\n",
       "    }\n",
       "</style>\n",
       "<table border=\"1\" class=\"dataframe\">\n",
       "  <thead>\n",
       "    <tr style=\"text-align: right;\">\n",
       "      <th></th>\n",
       "      <th>Id</th>\n",
       "      <th>EmployeeName</th>\n",
       "      <th>JobTitle</th>\n",
       "      <th>BasePay</th>\n",
       "      <th>OvertimePay</th>\n",
       "      <th>OtherPay</th>\n",
       "      <th>Benefits</th>\n",
       "      <th>TotalPay</th>\n",
       "      <th>TotalPayBenefits</th>\n",
       "      <th>Year</th>\n",
       "      <th>Notes</th>\n",
       "      <th>Agency</th>\n",
       "      <th>Status</th>\n",
       "    </tr>\n",
       "  </thead>\n",
       "  <tbody>\n",
       "    <tr>\n",
       "      <th>148646</th>\n",
       "      <td>148647</td>\n",
       "      <td>Not provided</td>\n",
       "      <td>Not provided</td>\n",
       "      <td>NaN</td>\n",
       "      <td>NaN</td>\n",
       "      <td>NaN</td>\n",
       "      <td>NaN</td>\n",
       "      <td>0.0</td>\n",
       "      <td>0.0</td>\n",
       "      <td>2014</td>\n",
       "      <td>NaN</td>\n",
       "      <td>San Francisco</td>\n",
       "      <td>NaN</td>\n",
       "    </tr>\n",
       "    <tr>\n",
       "      <th>148650</th>\n",
       "      <td>148651</td>\n",
       "      <td>Not provided</td>\n",
       "      <td>Not provided</td>\n",
       "      <td>NaN</td>\n",
       "      <td>NaN</td>\n",
       "      <td>NaN</td>\n",
       "      <td>NaN</td>\n",
       "      <td>0.0</td>\n",
       "      <td>0.0</td>\n",
       "      <td>2014</td>\n",
       "      <td>NaN</td>\n",
       "      <td>San Francisco</td>\n",
       "      <td>NaN</td>\n",
       "    </tr>\n",
       "    <tr>\n",
       "      <th>148651</th>\n",
       "      <td>148652</td>\n",
       "      <td>Not provided</td>\n",
       "      <td>Not provided</td>\n",
       "      <td>NaN</td>\n",
       "      <td>NaN</td>\n",
       "      <td>NaN</td>\n",
       "      <td>NaN</td>\n",
       "      <td>0.0</td>\n",
       "      <td>0.0</td>\n",
       "      <td>2014</td>\n",
       "      <td>NaN</td>\n",
       "      <td>San Francisco</td>\n",
       "      <td>NaN</td>\n",
       "    </tr>\n",
       "    <tr>\n",
       "      <th>148652</th>\n",
       "      <td>148653</td>\n",
       "      <td>Not provided</td>\n",
       "      <td>Not provided</td>\n",
       "      <td>NaN</td>\n",
       "      <td>NaN</td>\n",
       "      <td>NaN</td>\n",
       "      <td>NaN</td>\n",
       "      <td>0.0</td>\n",
       "      <td>0.0</td>\n",
       "      <td>2014</td>\n",
       "      <td>NaN</td>\n",
       "      <td>San Francisco</td>\n",
       "      <td>NaN</td>\n",
       "    </tr>\n",
       "  </tbody>\n",
       "</table>\n",
       "</div>"
      ],
      "text/plain": [
       "            Id  EmployeeName      JobTitle  BasePay  OvertimePay  OtherPay  \\\n",
       "148646  148647  Not provided  Not provided      NaN          NaN       NaN   \n",
       "148650  148651  Not provided  Not provided      NaN          NaN       NaN   \n",
       "148651  148652  Not provided  Not provided      NaN          NaN       NaN   \n",
       "148652  148653  Not provided  Not provided      NaN          NaN       NaN   \n",
       "\n",
       "        Benefits  TotalPay  TotalPayBenefits  Year  Notes         Agency  \\\n",
       "148646       NaN       0.0               0.0  2014    NaN  San Francisco   \n",
       "148650       NaN       0.0               0.0  2014    NaN  San Francisco   \n",
       "148651       NaN       0.0               0.0  2014    NaN  San Francisco   \n",
       "148652       NaN       0.0               0.0  2014    NaN  San Francisco   \n",
       "\n",
       "        Status  \n",
       "148646     NaN  \n",
       "148650     NaN  \n",
       "148651     NaN  \n",
       "148652     NaN  "
      ]
     },
     "execution_count": 10,
     "metadata": {},
     "output_type": "execute_result"
    }
   ],
   "source": [
    "df.loc[df['OvertimePay'].isna() | df['OvertimePay'].isna()]"
   ]
  },
  {
   "cell_type": "code",
   "execution_count": 11,
   "metadata": {},
   "outputs": [
    {
     "data": {
      "text/html": [
       "<div>\n",
       "<style scoped>\n",
       "    .dataframe tbody tr th:only-of-type {\n",
       "        vertical-align: middle;\n",
       "    }\n",
       "\n",
       "    .dataframe tbody tr th {\n",
       "        vertical-align: top;\n",
       "    }\n",
       "\n",
       "    .dataframe thead th {\n",
       "        text-align: right;\n",
       "    }\n",
       "</style>\n",
       "<table border=\"1\" class=\"dataframe\">\n",
       "  <thead>\n",
       "    <tr style=\"text-align: right;\">\n",
       "      <th></th>\n",
       "      <th>Id</th>\n",
       "      <th>EmployeeName</th>\n",
       "      <th>JobTitle</th>\n",
       "      <th>BasePay</th>\n",
       "      <th>OvertimePay</th>\n",
       "      <th>OtherPay</th>\n",
       "      <th>Benefits</th>\n",
       "      <th>TotalPay</th>\n",
       "      <th>TotalPayBenefits</th>\n",
       "      <th>Year</th>\n",
       "      <th>Notes</th>\n",
       "      <th>Agency</th>\n",
       "      <th>Status</th>\n",
       "    </tr>\n",
       "  </thead>\n",
       "  <tbody>\n",
       "    <tr>\n",
       "      <th>148646</th>\n",
       "      <td>148647</td>\n",
       "      <td>Not provided</td>\n",
       "      <td>Not provided</td>\n",
       "      <td>NaN</td>\n",
       "      <td>NaN</td>\n",
       "      <td>NaN</td>\n",
       "      <td>NaN</td>\n",
       "      <td>0.0</td>\n",
       "      <td>0.0</td>\n",
       "      <td>2014</td>\n",
       "      <td>NaN</td>\n",
       "      <td>San Francisco</td>\n",
       "      <td>NaN</td>\n",
       "    </tr>\n",
       "    <tr>\n",
       "      <th>148650</th>\n",
       "      <td>148651</td>\n",
       "      <td>Not provided</td>\n",
       "      <td>Not provided</td>\n",
       "      <td>NaN</td>\n",
       "      <td>NaN</td>\n",
       "      <td>NaN</td>\n",
       "      <td>NaN</td>\n",
       "      <td>0.0</td>\n",
       "      <td>0.0</td>\n",
       "      <td>2014</td>\n",
       "      <td>NaN</td>\n",
       "      <td>San Francisco</td>\n",
       "      <td>NaN</td>\n",
       "    </tr>\n",
       "    <tr>\n",
       "      <th>148651</th>\n",
       "      <td>148652</td>\n",
       "      <td>Not provided</td>\n",
       "      <td>Not provided</td>\n",
       "      <td>NaN</td>\n",
       "      <td>NaN</td>\n",
       "      <td>NaN</td>\n",
       "      <td>NaN</td>\n",
       "      <td>0.0</td>\n",
       "      <td>0.0</td>\n",
       "      <td>2014</td>\n",
       "      <td>NaN</td>\n",
       "      <td>San Francisco</td>\n",
       "      <td>NaN</td>\n",
       "    </tr>\n",
       "    <tr>\n",
       "      <th>148652</th>\n",
       "      <td>148653</td>\n",
       "      <td>Not provided</td>\n",
       "      <td>Not provided</td>\n",
       "      <td>NaN</td>\n",
       "      <td>NaN</td>\n",
       "      <td>NaN</td>\n",
       "      <td>NaN</td>\n",
       "      <td>0.0</td>\n",
       "      <td>0.0</td>\n",
       "      <td>2014</td>\n",
       "      <td>NaN</td>\n",
       "      <td>San Francisco</td>\n",
       "      <td>NaN</td>\n",
       "    </tr>\n",
       "  </tbody>\n",
       "</table>\n",
       "</div>"
      ],
      "text/plain": [
       "            Id  EmployeeName      JobTitle  BasePay  OvertimePay  OtherPay  \\\n",
       "148646  148647  Not provided  Not provided      NaN          NaN       NaN   \n",
       "148650  148651  Not provided  Not provided      NaN          NaN       NaN   \n",
       "148651  148652  Not provided  Not provided      NaN          NaN       NaN   \n",
       "148652  148653  Not provided  Not provided      NaN          NaN       NaN   \n",
       "\n",
       "        Benefits  TotalPay  TotalPayBenefits  Year  Notes         Agency  \\\n",
       "148646       NaN       0.0               0.0  2014    NaN  San Francisco   \n",
       "148650       NaN       0.0               0.0  2014    NaN  San Francisco   \n",
       "148651       NaN       0.0               0.0  2014    NaN  San Francisco   \n",
       "148652       NaN       0.0               0.0  2014    NaN  San Francisco   \n",
       "\n",
       "        Status  \n",
       "148646     NaN  \n",
       "148650     NaN  \n",
       "148651     NaN  \n",
       "148652     NaN  "
      ]
     },
     "execution_count": 11,
     "metadata": {},
     "output_type": "execute_result"
    }
   ],
   "source": [
    "# I want to check these data\n",
    "df.loc[(df['EmployeeName'] == 'Not provided') | (df['JobTitle'] == 'Not provided')]"
   ]
  },
  {
   "cell_type": "markdown",
   "metadata": {},
   "source": [
    "as we can see these 4 records with missing data even in name and job and I think this is a business decision ,\n",
    "currently I will keep these records as it has data in Year and Agency as I may need them"
   ]
  },
  {
   "cell_type": "code",
   "execution_count": 30,
   "metadata": {},
   "outputs": [
    {
     "name": "stdout",
     "output_type": "stream",
     "text": [
      "Column Name\t\t| Number of All Records\t| Number of Missing Data\n",
      "----------------------------------------------------------------------\n",
      "Id                  \t| 148654              \t| 0\n",
      "EmployeeName        \t| 148654              \t| 0\n",
      "JobTitle            \t| 148654              \t| 0\n",
      "BasePay             \t| 148045              \t| 609\n",
      "OvertimePay         \t| 148654              \t| 0\n",
      "OtherPay            \t| 148654              \t| 0\n",
      "Benefits            \t| 112491              \t| 36163\n",
      "TotalPay            \t| 148654              \t| 0\n",
      "TotalPayBenefits    \t| 148654              \t| 0\n",
      "Year                \t| 148654              \t| 0\n",
      "Notes               \t| 0                   \t| 148654\n",
      "Agency              \t| 148654              \t| 0\n",
      "Status              \t| 0                   \t| 148654\n"
     ]
    }
   ],
   "source": [
    "# Fill missing values in 'OvertimePay' and 'OtherPay' using 0 as the total there is 0\n",
    "df['OvertimePay'].fillna(0, inplace=True)\n",
    "df['OtherPay'].fillna(0, inplace=True)\n",
    "\n",
    "count_and_print_missing_data(df)"
   ]
  },
  {
   "cell_type": "code",
   "execution_count": 31,
   "metadata": {},
   "outputs": [
    {
     "name": "stdout",
     "output_type": "stream",
     "text": [
      "Column Name\t\t| Number of All Records\t| Number of Missing Data\n",
      "----------------------------------------------------------------------\n",
      "Id                  \t| 148654              \t| 0\n",
      "EmployeeName        \t| 148654              \t| 0\n",
      "JobTitle            \t| 148654              \t| 0\n",
      "BasePay             \t| 148654              \t| 0\n",
      "OvertimePay         \t| 148654              \t| 0\n",
      "OtherPay            \t| 148654              \t| 0\n",
      "Benefits            \t| 112491              \t| 36163\n",
      "TotalPay            \t| 148654              \t| 0\n",
      "TotalPayBenefits    \t| 148654              \t| 0\n",
      "Year                \t| 148654              \t| 0\n",
      "Notes               \t| 0                   \t| 148654\n",
      "Agency              \t| 148654              \t| 0\n",
      "Status              \t| 0                   \t| 148654\n"
     ]
    }
   ],
   "source": [
    "# Calculate the missing values in 'BasePay' using the equation: TotalPay = BasePay + OvertimePay + OtherPay\n",
    "missing_basepay_rows = df['BasePay'].isnull()\n",
    "df.loc[missing_basepay_rows, 'BasePay'] = df.loc[missing_basepay_rows, 'TotalPay'] - df.loc[missing_basepay_rows, 'OvertimePay'] - df.loc[missing_basepay_rows, 'OtherPay']\n",
    "\n",
    "count_and_print_missing_data(df)"
   ]
  },
  {
   "cell_type": "code",
   "execution_count": 32,
   "metadata": {},
   "outputs": [
    {
     "name": "stdout",
     "output_type": "stream",
     "text": [
      "Column Name\t\t| Number of All Records\t| Number of Missing Data\n",
      "----------------------------------------------------------------------\n",
      "Id                  \t| 148654              \t| 0\n",
      "EmployeeName        \t| 148654              \t| 0\n",
      "JobTitle            \t| 148654              \t| 0\n",
      "BasePay             \t| 148654              \t| 0\n",
      "OvertimePay         \t| 148654              \t| 0\n",
      "OtherPay            \t| 148654              \t| 0\n",
      "Benefits            \t| 148654              \t| 0\n",
      "TotalPay            \t| 148654              \t| 0\n",
      "TotalPayBenefits    \t| 148654              \t| 0\n",
      "Year                \t| 148654              \t| 0\n",
      "Notes               \t| 0                   \t| 148654\n",
      "Agency              \t| 148654              \t| 0\n",
      "Status              \t| 0                   \t| 148654\n"
     ]
    }
   ],
   "source": [
    "# Calculate the missing values in 'Benefits' using the equation: Benefits = TotalPayBenefits - TotalPay\n",
    "missing_benefits_rows = df['Benefits'].isnull()\n",
    "df.loc[missing_benefits_rows, 'Benefits'] = df.loc[missing_benefits_rows, 'TotalPayBenefits'] - df.loc[missing_benefits_rows, 'TotalPay']\n",
    "\n",
    "count_and_print_missing_data(df)"
   ]
  },
  {
   "cell_type": "markdown",
   "metadata": {},
   "source": [
    "The 'Notes' and 'Status' columns contain only missing values (148,654 missing out of 148,654 total records).\n",
    "In this case, the column doesn't provide any useful information and can be dropped from the dataset."
   ]
  },
  {
   "cell_type": "code",
   "execution_count": 33,
   "metadata": {},
   "outputs": [
    {
     "name": "stdout",
     "output_type": "stream",
     "text": [
      "Column Name\t\t| Number of All Records\t| Number of Missing Data\n",
      "----------------------------------------------------------------------\n",
      "Id                  \t| 148654              \t| 0\n",
      "EmployeeName        \t| 148654              \t| 0\n",
      "JobTitle            \t| 148654              \t| 0\n",
      "BasePay             \t| 148654              \t| 0\n",
      "OvertimePay         \t| 148654              \t| 0\n",
      "OtherPay            \t| 148654              \t| 0\n",
      "Benefits            \t| 148654              \t| 0\n",
      "TotalPay            \t| 148654              \t| 0\n",
      "TotalPayBenefits    \t| 148654              \t| 0\n",
      "Year                \t| 148654              \t| 0\n",
      "Agency              \t| 148654              \t| 0\n"
     ]
    }
   ],
   "source": [
    "# Drop the 'Notes' and 'Status' columns\n",
    "df.drop(['Notes', 'Status'], axis=1, inplace=True)\n",
    "\n",
    "count_and_print_missing_data(df)"
   ]
  },
  {
   "cell_type": "markdown",
   "metadata": {},
   "source": [
    "## Task4: Basic Data Visualization"
   ]
  },
  {
   "cell_type": "markdown",
   "metadata": {},
   "source": [
    "Create histograms or bar charts to visualize the distribution of salaries, and use pie charts to represent the proportion of employees in different departments."
   ]
  },
  {
   "cell_type": "code",
   "execution_count": 35,
   "metadata": {},
   "outputs": [
    {
     "data": {
      "image/png": "[encoded data removed]",
      "text/plain": [
       "<Figure size 1000x400 with 1 Axes>"
      ]
     },
     "metadata": {},
     "output_type": "display_data"
    },
    {
     "data": {
      "image/png": "[encoded data removed]",
      "text/plain": [
       "<Figure size 400x400 with 1 Axes>"
      ]
     },
     "metadata": {},
     "output_type": "display_data"
    }
   ],
   "source": [
    "# make sure to install it first => pip3 install matplotlib\n",
    "import matplotlib.pyplot as plt\n",
    "\n",
    "# Distribution of salaries (Histogram)\n",
    "plt.figure(figsize=(10, 4))\n",
    "plt.hist(df['TotalPay'], bins=100, color='skyblue', edgecolor='black')\n",
    "plt.xlabel('TotalPay')\n",
    "plt.ylabel('Frequency')\n",
    "plt.title('Distribution of Salaries')\n",
    "plt.show()\n",
    "\n",
    "# Proportion of employees in different departments (Pie chart)\n",
    "# I think 'Agency' is department col\n",
    "department_counts = df['Agency'].value_counts()\n",
    "labels = department_counts.index\n",
    "sizes = department_counts.values\n",
    "\n",
    "plt.figure(figsize=(4, 4))\n",
    "plt.pie(sizes, labels=labels, autopct='%1.1f%%', startangle=90, colors=plt.cm.Set3.colors)\n",
    "plt.axis('equal')\n",
    "plt.title('Proportion of Employees in Different Departments')\n",
    "plt.show()\n"
   ]
  },
  {
   "cell_type": "code",
   "execution_count": 36,
   "metadata": {},
   "outputs": [
    {
     "data": {
      "text/plain": [
       "True"
      ]
     },
     "execution_count": 36,
     "metadata": {},
     "output_type": "execute_result"
    }
   ],
   "source": [
    "df['Agency'].eq('San Francisco').all()"
   ]
  },
  {
   "cell_type": "markdown",
   "metadata": {},
   "source": [
    "## Task5: Grouped Analysis"
   ]
  },
  {
   "cell_type": "markdown",
   "metadata": {},
   "source": [
    "Group the data by one or more columns and calculate summary statistics for each group, and compare the average salaries across different groups."
   ]
  },
  {
   "cell_type": "code",
   "execution_count": 37,
   "metadata": {},
   "outputs": [
    {
     "name": "stdout",
     "output_type": "stream",
     "text": [
      "Summary Statistics:\n",
      "                                     count           mean        min  \\\n",
      "Year JobTitle                                                          \n",
      "2011 ACCOUNT CLERK                      83   44035.664337     614.00   \n",
      "     ACCOUNTANT                          5   47429.268000    1148.40   \n",
      "     ACCOUNTANT INTERN                  48   29031.742917    2981.53   \n",
      "     ACUPUNCTURIST                       1   67594.400000   67594.40   \n",
      "     ADMINISTRATIVE ANALYST             93   63954.867527    2388.24   \n",
      "...                                    ...            ...        ...   \n",
      "2014 Wire Rope Cable Maint Sprv          1  190575.900000  190575.90   \n",
      "     Worker's Comp Supervisor 1          6   56689.446667      56.64   \n",
      "     Worker's Compensation Adjuster     26   70636.455385    1837.39   \n",
      "     X-Ray Laboratory Aide              35   51211.566857   11341.85   \n",
      "     Youth Comm Advisor                  1   36465.910000   36465.91   \n",
      "\n",
      "                                           max  \n",
      "Year JobTitle                                   \n",
      "2011 ACCOUNT CLERK                    60838.20  \n",
      "     ACCOUNTANT                       65392.01  \n",
      "     ACCOUNTANT INTERN                58799.53  \n",
      "     ACUPUNCTURIST                    67594.40  \n",
      "     ADMINISTRATIVE ANALYST           79754.03  \n",
      "...                                        ...  \n",
      "2014 Wire Rope Cable Maint Sprv      190575.90  \n",
      "     Worker's Comp Supervisor 1      108144.01  \n",
      "     Worker's Compensation Adjuster  106050.66  \n",
      "     X-Ray Laboratory Aide            99812.97  \n",
      "     Youth Comm Advisor               36465.91  \n",
      "\n",
      "[4137 rows x 4 columns]\n",
      "\n",
      "Average Salaries across Groups:\n",
      "Year  JobTitle                                      \n",
      "2011  GENERAL MANAGER-METROPOLITAN TRANSIT AUTHORITY    399211.275\n",
      "2014  Chief Investment Officer                          339653.700\n",
      "2013  Chief of Police                                   339282.070\n",
      "      Chief, Fire Department                            336922.010\n",
      "2014  Chief of Police                                   326716.760\n",
      "                                                           ...    \n",
      "2013  Public Safety Comm Tech                                0.000\n",
      "      IS Operator-Journey                                    0.000\n",
      "      Drug Court Coordinator                                 0.000\n",
      "2014  Special Assistant 15                                   0.000\n",
      "      Not provided                                           0.000\n",
      "Name: TotalPay, Length: 4137, dtype: float64\n"
     ]
    }
   ],
   "source": [
    "# Group the data by one or more columns and calculate summary statistics\n",
    "grouped_data = df.groupby(['Year', 'JobTitle'])\n",
    "summary_stats = grouped_data['TotalPay'].agg(['count', 'mean', 'min', 'max'])\n",
    "\n",
    "# Compare average salaries across different groups\n",
    "average_salaries = grouped_data['TotalPay'].mean().sort_values(ascending=False)\n",
    "\n",
    "print(\"Summary Statistics:\")\n",
    "print(summary_stats)\n",
    "\n",
    "print(\"\\nAverage Salaries across Groups:\")\n",
    "print(average_salaries)"
   ]
  },
  {
   "cell_type": "markdown",
   "metadata": {},
   "source": [
    "## Task6: Simple Correlation Analysis"
   ]
  },
  {
   "cell_type": "markdown",
   "metadata": {},
   "source": [
    "Identify any correlation between salary and another numerical column, and plot a scatter plot to visualize the relationship."
   ]
  },
  {
   "cell_type": "code",
   "execution_count": 38,
   "metadata": {},
   "outputs": [
    {
     "data": {
      "image/png": "[encoded data removed]",
      "text/plain": [
       "<Figure size 640x480 with 1 Axes>"
      ]
     },
     "metadata": {},
     "output_type": "display_data"
    },
    {
     "name": "stdout",
     "output_type": "stream",
     "text": [
      "Correlation coefficient: 0.9773128522072129\n"
     ]
    }
   ],
   "source": [
    "import matplotlib.pyplot as plt\n",
    "\n",
    "salary_header = 'TotalPay'\n",
    "othe_pay_benefits = 'TotalPayBenefits'\n",
    "# Perform correlation analysis\n",
    "correlation = df[salary_header].corr(df[othe_pay_benefits])\n",
    "\n",
    "# Visualize the relationship with a scatter plot\n",
    "plt.scatter(df[othe_pay_benefits], df[salary_header])\n",
    "plt.xlabel(othe_pay_benefits)\n",
    "plt.ylabel(salary_header)\n",
    "plt.title(f'Correlation Analysis: {salary_header} (Salary) vs {othe_pay_benefits}')\n",
    "plt.show()\n",
    "\n",
    "print(\"Correlation coefficient:\", correlation)"
   ]
  },
  {
   "cell_type": "markdown",
   "metadata": {},
   "source": [
    "## Task7: Summary of Insights (no task with number 7 so I will make this 7)"
   ]
  },
  {
   "cell_type": "markdown",
   "metadata": {},
   "source": [
    "Write a brief report summarizing the findings and insights from the analyses."
   ]
  },
  {
   "cell_type": "markdown",
   "metadata": {},
   "source": [
    "- The median salary of $71,426.61 indicates that half of the salaries in the dataset are below this value, while the other half are above it. This provides a measure of the central tendency and helps understand the distribution of salaries in the dataset.\n",
    "\n",
    "- The most frequently occurring value in the salary dataset is 0.0. It is important to note that this value might require further investigation as it could indicate an error or a specific context that needs clarification. Additionally, the minimum salary in the dataset is -$618.13, and negative salary values should be examined carefully to understand their context and validity.\n",
    "\n",
    "- there are some missing data or not provided data which we need to discuss about so maybe we can add some validation in way we enter these values\n",
    "\n",
    "- All employees in the dataset are from San Francisco. This information suggests that the dataset exclusively represents employees from the San Francisco area, and further analysis should consider this geographical context.\n",
    "\n",
    "- It is worth investigating cases where the mean salary is 0 in certain years for specific job titles. This anomaly might indicate data quality issues or specific circumstances that require deeper understanding or data validation.\n",
    "\n",
    "- The salaries for some job titles, such as Chief of Police, show a decreasing trend year after year. This observation highlights the need for further examination to understand the underlying factors contributing to the salary decrease and evaluate any potential implications or reasons for this pattern.\n",
    "\n",
    "- The correlation coefficient of 0.9773128522072129 between TotalPay and TotalPayBenefits indicates a strong positive linear relationship. This means that changes in one variable (TotalPay) are strongly associated with changes in the other variable (TotalPayBenefits), and they tend to move together in a consistent manner. This correlation coefficient suggests a high degree of similarity and association between the two variables."
   ]
  },
  {
   "cell_type": "markdown",
   "metadata": {
    "id": "HE9jbRjcUyoX"
   },
   "source": [
    "# Good Luck!"
   ]
  }
 ],
 "metadata": {
  "colab": {
   "provenance": []
  },
  "kernelspec": {
   "display_name": "Python 3 (ipykernel)",
   "language": "python",
   "name": "python3"
  },
  "language_info": {
   "codemirror_mode": {
    "name": "ipython",
    "version": 3
   },
   "file_extension": ".py",
   "mimetype": "text/x-python",
   "name": "python",
   "nbconvert_exporter": "python",
   "pygments_lexer": "ipython3",
   "version": "3.10.12"
  }
 },
 "nbformat": 4,
 "nbformat_minor": 4
}
